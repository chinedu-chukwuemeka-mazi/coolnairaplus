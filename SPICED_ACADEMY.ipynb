{
 "cells": [
  {
   "cell_type": "markdown",
   "id": "ea5eead9",
   "metadata": {},
   "source": [
    "# We assume that the data can be described by a straight line with the slope a through the origin and an intercept b"
   ]
  },
  {
   "cell_type": "code",
   "execution_count": 3,
   "id": "2b437ddd",
   "metadata": {},
   "outputs": [
    {
     "data": {
      "text/html": [
       "<div>\n",
       "<style scoped>\n",
       "    .dataframe tbody tr th:only-of-type {\n",
       "        vertical-align: middle;\n",
       "    }\n",
       "\n",
       "    .dataframe tbody tr th {\n",
       "        vertical-align: top;\n",
       "    }\n",
       "\n",
       "    .dataframe thead th {\n",
       "        text-align: right;\n",
       "    }\n",
       "</style>\n",
       "<table border=\"1\" class=\"dataframe\">\n",
       "  <thead>\n",
       "    <tr style=\"text-align: right;\">\n",
       "      <th></th>\n",
       "      <th>x</th>\n",
       "      <th>y</th>\n",
       "    </tr>\n",
       "  </thead>\n",
       "  <tbody>\n",
       "    <tr>\n",
       "      <th>0</th>\n",
       "      <td>0.000000</td>\n",
       "      <td>0.496714</td>\n",
       "    </tr>\n",
       "    <tr>\n",
       "      <th>1</th>\n",
       "      <td>0.052632</td>\n",
       "      <td>0.019630</td>\n",
       "    </tr>\n",
       "    <tr>\n",
       "      <th>2</th>\n",
       "      <td>0.105263</td>\n",
       "      <td>0.963478</td>\n",
       "    </tr>\n",
       "    <tr>\n",
       "      <th>3</th>\n",
       "      <td>0.157895</td>\n",
       "      <td>1.996714</td>\n",
       "    </tr>\n",
       "    <tr>\n",
       "      <th>4</th>\n",
       "      <td>0.210526</td>\n",
       "      <td>0.397426</td>\n",
       "    </tr>\n",
       "  </tbody>\n",
       "</table>\n",
       "</div>"
      ],
      "text/plain": [
       "          x         y\n",
       "0  0.000000  0.496714\n",
       "1  0.052632  0.019630\n",
       "2  0.105263  0.963478\n",
       "3  0.157895  1.996714\n",
       "4  0.210526  0.397426"
      ]
     },
     "execution_count": 3,
     "metadata": {},
     "output_type": "execute_result"
    }
   ],
   "source": [
    "#import library \n",
    "import pandas as pd\n",
    "import numpy as np\n",
    "import matplotlib.pyplot as plt\n",
    "import os\n",
    "\n",
    "#read a CSV file (task 1)\n",
    "df = pd.read_csv(os.getcwd()+'\\datapoints.csv')\n",
    "df.head()"
   ]
  },
  {
   "cell_type": "code",
   "execution_count": 4,
   "id": "29c358e4",
   "metadata": {},
   "outputs": [
    {
     "data": {
      "text/plain": [
       "<matplotlib.collections.PathCollection at 0xf48861f580>"
      ]
     },
     "execution_count": 4,
     "metadata": {},
     "output_type": "execute_result"
    },
    {
     "data": {
      "image/png": "[encoded data removed]",
      "text/plain": [
       "<Figure size 432x288 with 1 Axes>"
      ]
     },
     "metadata": {
      "needs_background": "light"
     },
     "output_type": "display_data"
    }
   ],
   "source": [
    "# slicing and graph plotting scatter (task 2)\n",
    "X = df['x']\n",
    "Y = df['y']\n",
    "\n",
    "#plot scatter plot\n",
    "plt.xlabel('X-Axis')\n",
    "plt.ylabel('Y-Axis')\n",
    "plt.scatter(X, Y, color='purple')\n"
   ]
  },
  {
   "cell_type": "code",
   "execution_count": 5,
   "id": "a1580a41",
   "metadata": {},
   "outputs": [
    {
     "data": {
      "text/html": [
       "<div>\n",
       "<style scoped>\n",
       "    .dataframe tbody tr th:only-of-type {\n",
       "        vertical-align: middle;\n",
       "    }\n",
       "\n",
       "    .dataframe tbody tr th {\n",
       "        vertical-align: top;\n",
       "    }\n",
       "\n",
       "    .dataframe thead th {\n",
       "        text-align: right;\n",
       "    }\n",
       "</style>\n",
       "<table border=\"1\" class=\"dataframe\">\n",
       "  <thead>\n",
       "    <tr style=\"text-align: right;\">\n",
       "      <th></th>\n",
       "      <th>x</th>\n",
       "      <th>y</th>\n",
       "      <th>New_Y</th>\n",
       "    </tr>\n",
       "  </thead>\n",
       "  <tbody>\n",
       "    <tr>\n",
       "      <th>0</th>\n",
       "      <td>0.000000</td>\n",
       "      <td>0.496714</td>\n",
       "      <td>0.000000</td>\n",
       "    </tr>\n",
       "    <tr>\n",
       "      <th>1</th>\n",
       "      <td>0.052632</td>\n",
       "      <td>0.019630</td>\n",
       "      <td>0.526316</td>\n",
       "    </tr>\n",
       "    <tr>\n",
       "      <th>2</th>\n",
       "      <td>0.105263</td>\n",
       "      <td>0.963478</td>\n",
       "      <td>1.052632</td>\n",
       "    </tr>\n",
       "    <tr>\n",
       "      <th>3</th>\n",
       "      <td>0.157895</td>\n",
       "      <td>1.996714</td>\n",
       "      <td>1.578947</td>\n",
       "    </tr>\n",
       "    <tr>\n",
       "      <th>4</th>\n",
       "      <td>0.210526</td>\n",
       "      <td>0.397426</td>\n",
       "      <td>2.105263</td>\n",
       "    </tr>\n",
       "  </tbody>\n",
       "</table>\n",
       "</div>"
      ],
      "text/plain": [
       "          x         y     New_Y\n",
       "0  0.000000  0.496714  0.000000\n",
       "1  0.052632  0.019630  0.526316\n",
       "2  0.105263  0.963478  1.052632\n",
       "3  0.157895  1.996714  1.578947\n",
       "4  0.210526  0.397426  2.105263"
      ]
     },
     "execution_count": 5,
     "metadata": {},
     "output_type": "execute_result"
    }
   ],
   "source": [
    "#Set the slope a to 10 and the intercept b to 0. Calculate y for every value of x. (task 3)\n",
    "X = df['x']\n",
    "Y = df['y']\n",
    "\n",
    "#set value \n",
    "a = 10\n",
    "b = 0\n",
    "\n",
    "#New values of Y\n",
    "New_Y = a * X + b\n",
    "\n",
    "df['New_Y'] = New_Y\n",
    "df.head()"
   ]
  },
  {
   "cell_type": "code",
   "execution_count": 6,
   "id": "34c5a991",
   "metadata": {},
   "outputs": [
    {
     "data": {
      "text/plain": [
       "21.30649941907101"
      ]
     },
     "execution_count": 6,
     "metadata": {},
     "output_type": "execute_result"
    }
   ],
   "source": [
    "#Calculate the Mean Squared Error (MSE) of y and ytrue using the formula: (task 4)\n",
    "#actual values of y\n",
    "Y_true = df['y']\n",
    "\n",
    "#calculate values of New_Y\n",
    "Y_pred = df['New_Y']\n",
    "\n",
    "MSE = np.square(np.subtract(Y_true,Y_pred)).mean()\n",
    "MSE"
   ]
  },
  {
   "cell_type": "code",
   "execution_count": 7,
   "id": "20a17476",
   "metadata": {},
   "outputs": [
    {
     "name": "stdout",
     "output_type": "stream",
     "text": [
      "Initial Value of MSE 21.30649941907101\n",
      "Value of i: 41 Value of a:  5.800000000000015 Values New MSE 20.651600083037778\n",
      "Value of i: 42 Value of a:  5.700000000000015 Values New MSE 19.767340370749416\n",
      "Value of i: 43 Value of a:  5.600000000000016 Values New MSE 18.903080658461047\n",
      "Value of i: 44 Value of a:  5.500000000000016 Values New MSE 18.058820946172684\n",
      "Value of i: 45 Value of a:  5.400000000000016 Values New MSE 17.23456123388431\n",
      "Value of i: 46 Value of a:  5.300000000000017 Values New MSE 16.430301521595947\n",
      "Value of i: 47 Value of a:  5.200000000000017 Values New MSE 15.646041809307585\n",
      "Value of i: 48 Value of a:  5.100000000000017 Values New MSE 14.881782097019212\n",
      "Value of i: 49 Value of a:  5.000000000000018 Values New MSE 14.137522384730847\n",
      "Value of i: 50 Value of a:  4.900000000000018 Values New MSE 13.41326267244248\n",
      "Value of i: 51 Value of a:  4.8000000000000185 Values New MSE 12.709002960154113\n",
      "Value of i: 52 Value of a:  4.700000000000019 Values New MSE 12.024743247865747\n",
      "Value of i: 53 Value of a:  4.600000000000019 Values New MSE 11.360483535577382\n",
      "Value of i: 54 Value of a:  4.5000000000000195 Values New MSE 10.716223823289013\n",
      "Value of i: 55 Value of a:  4.40000000000002 Values New MSE 10.091964111000646\n",
      "Value of i: 56 Value of a:  4.30000000000002 Values New MSE 9.487704398712278\n",
      "Value of i: 57 Value of a:  4.200000000000021 Values New MSE 8.903444686423908\n",
      "Value of i: 58 Value of a:  4.100000000000021 Values New MSE 8.33918497413554\n",
      "Value of i: 59 Value of a:  4.000000000000021 Values New MSE 7.794925261847173\n",
      "Value of i: 60 Value of a:  3.9000000000000212 Values New MSE 7.270665549558805\n",
      "Value of i: 61 Value of a:  3.800000000000021 Values New MSE 6.766405837270433\n",
      "Value of i: 62 Value of a:  3.700000000000021 Values New MSE 6.282146124982063\n",
      "Value of i: 63 Value of a:  3.600000000000021 Values New MSE 5.8178864126936904\n",
      "Value of i: 64 Value of a:  3.500000000000021 Values New MSE 5.373626700405322\n",
      "Value of i: 65 Value of a:  3.400000000000021 Values New MSE 4.94936698811695\n",
      "Value of i: 66 Value of a:  3.3000000000000207 Values New MSE 4.54510727582858\n",
      "Value of i: 67 Value of a:  3.2000000000000206 Values New MSE 4.1608475635402105\n",
      "Value of i: 68 Value of a:  3.1000000000000205 Values New MSE 3.7965878512518394\n",
      "Value of i: 69 Value of a:  3.0000000000000204 Values New MSE 3.4523281389634697\n",
      "Value of i: 70 Value of a:  2.9000000000000203 Values New MSE 3.128068426675099\n",
      "Value of i: 71 Value of a:  2.8000000000000203 Values New MSE 2.82380871438673\n",
      "Value of i: 72 Value of a:  2.70000000000002 Values New MSE 2.539549002098359\n",
      "Value of i: 73 Value of a:  2.60000000000002 Values New MSE 2.2752892898099892\n",
      "Value of i: 74 Value of a:  2.50000000000002 Values New MSE 2.031029577521619\n",
      "Value of i: 75 Value of a:  2.40000000000002 Values New MSE 1.806769865233249\n",
      "Value of i: 76 Value of a:  2.30000000000002 Values New MSE 1.6025101529448798\n",
      "Value of i: 77 Value of a:  2.2000000000000197 Values New MSE 1.4182504406565095\n",
      "Value of i: 78 Value of a:  2.1000000000000196 Values New MSE 1.2539907283681397\n",
      "Value of i: 79 Value of a:  2.0000000000000195 Values New MSE 1.1097310160797698\n",
      "Value of i: 80 Value of a:  1.9000000000000195 Values New MSE 0.9854713037914001\n",
      "Value of i: 81 Value of a:  1.8000000000000194 Values New MSE 0.8812115915030303\n",
      "Value of i: 82 Value of a:  1.7000000000000193 Values New MSE 0.7969518792146605\n",
      "Value of i: 83 Value of a:  1.6000000000000192 Values New MSE 0.7326921669262908\n",
      "Value of i: 84 Value of a:  1.500000000000019 Values New MSE 0.6884324546379211\n",
      "Value of i: 85 Value of a:  1.400000000000019 Values New MSE 0.6641727423495516\n",
      "Value of i: 86 Value of a:  1.300000000000019 Values New MSE 0.6599130300611818\n",
      "Value of i: 87 Value of a:  1.2000000000000188 Values New MSE 0.6756533177728123\n",
      "Value of i: 88 Value of a:  1.1000000000000187 Values New MSE 0.7113936054844429\n",
      "Value of i: 89 Value of a:  1.0000000000000187 Values New MSE 0.7671338931960734\n",
      "Value of i: 90 Value of a:  0.9000000000000187 Values New MSE 0.842874180907704\n",
      "Value of i: 91 Value of a:  0.8000000000000187 Values New MSE 0.9386144686193342\n",
      "Value of i: 92 Value of a:  0.7000000000000187 Values New MSE 1.0543547563309645\n",
      "Value of i: 93 Value of a:  0.6000000000000187 Values New MSE 1.1900950440425953\n",
      "Value of i: 94 Value of a:  0.5000000000000188 Values New MSE 1.345835331754226\n",
      "Value of i: 95 Value of a:  0.4000000000000188 Values New MSE 1.521575619465856\n",
      "Value of i: 96 Value of a:  0.3000000000000188 Values New MSE 1.7173159071774862\n",
      "Value of i: 97 Value of a:  0.2000000000000188 Values New MSE 1.9330561948891165\n",
      "Value of i: 98 Value of a:  0.1000000000000188 Values New MSE 2.1687964826007473\n",
      "Value of i: 99 Value of a:  1.8790524691780774e-14 Values New MSE 2.4245367703123777\n"
     ]
    }
   ],
   "source": [
    "#Find a value for a that gives the lowest possible MSE. Implement the following procedure: (task 5)\n",
    "MSE = np.square(np.subtract(Y_true,Y_pred)).mean()\n",
    "a = 10\n",
    "b = 0\n",
    "Y_true = df['y']\n",
    "X = df['x']\n",
    "print('Initial Value of MSE', str(MSE))\n",
    "for i in range(100):\n",
    "    a = a - 0.1\n",
    "    comp_y = a + X*b\n",
    "    comp_MSE = np.square(np.subtract(Y_true, comp_y)).mean()\n",
    "    if MSE > comp_MSE:\n",
    "        print('Value of i:', str(i),'Value of a: ', str(a), 'Values New MSE', str(comp_MSE))"
   ]
  },
  {
   "cell_type": "code",
   "execution_count": 10,
   "id": "479b413e",
   "metadata": {},
   "outputs": [
    {
     "name": "stdout",
     "output_type": "stream",
     "text": [
      "Initial Value of MSE 21.30649941907101\n",
      "Value of i: 51 Value of a:  4.8000000000000185 Values New MSE 20.611711279379552\n",
      "Value of i: 52 Value of a:  4.700000000000019 Values New MSE 19.727451567091187\n",
      "Value of i: 53 Value of a:  4.600000000000019 Values New MSE 18.863191854802817\n",
      "Value of i: 54 Value of a:  4.5000000000000195 Values New MSE 18.018932142514455\n",
      "Value of i: 55 Value of a:  4.40000000000002 Values New MSE 17.194672430226085\n",
      "Value of i: 56 Value of a:  4.30000000000002 Values New MSE 16.390412717937714\n",
      "Value of i: 57 Value of a:  4.200000000000021 Values New MSE 15.606153005649356\n",
      "Value of i: 58 Value of a:  4.100000000000021 Values New MSE 14.841893293360986\n",
      "Value of i: 59 Value of a:  4.000000000000021 Values New MSE 14.097633581072618\n",
      "Value of i: 60 Value of a:  3.9000000000000212 Values New MSE 13.373373868784245\n",
      "Value of i: 61 Value of a:  3.800000000000021 Values New MSE 12.669114156495876\n",
      "Value of i: 62 Value of a:  3.700000000000021 Values New MSE 11.984854444207503\n",
      "Value of i: 63 Value of a:  3.600000000000021 Values New MSE 11.320594731919137\n",
      "Value of i: 64 Value of a:  3.500000000000021 Values New MSE 10.676335019630766\n",
      "Value of i: 65 Value of a:  3.400000000000021 Values New MSE 10.05207530734239\n",
      "Value of i: 66 Value of a:  3.3000000000000207 Values New MSE 9.447815595054024\n",
      "Value of i: 67 Value of a:  3.2000000000000206 Values New MSE 8.86355588276565\n",
      "Value of i: 68 Value of a:  3.1000000000000205 Values New MSE 8.299296170477282\n",
      "Value of i: 69 Value of a:  3.0000000000000204 Values New MSE 7.755036458188913\n",
      "Value of i: 70 Value of a:  2.9000000000000203 Values New MSE 7.230776745900542\n",
      "Value of i: 71 Value of a:  2.8000000000000203 Values New MSE 6.726517033612173\n",
      "Value of i: 72 Value of a:  2.70000000000002 Values New MSE 6.242257321323801\n",
      "Value of i: 73 Value of a:  2.60000000000002 Values New MSE 5.77799760903543\n",
      "Value of i: 74 Value of a:  2.50000000000002 Values New MSE 5.33373789674706\n",
      "Value of i: 75 Value of a:  2.40000000000002 Values New MSE 4.90947818445869\n",
      "Value of i: 76 Value of a:  2.30000000000002 Values New MSE 4.50521847217032\n",
      "Value of i: 77 Value of a:  2.2000000000000197 Values New MSE 4.120958759881949\n",
      "Value of i: 78 Value of a:  2.1000000000000196 Values New MSE 3.7566990475935804\n",
      "Value of i: 79 Value of a:  2.0000000000000195 Values New MSE 3.4124393353052107\n",
      "Value of i: 80 Value of a:  1.9000000000000195 Values New MSE 3.0881796230168397\n",
      "Value of i: 81 Value of a:  1.8000000000000194 Values New MSE 2.78391991072847\n",
      "Value of i: 82 Value of a:  1.7000000000000193 Values New MSE 2.4996601984401\n",
      "Value of i: 83 Value of a:  1.6000000000000192 Values New MSE 2.2354004861517307\n",
      "Value of i: 84 Value of a:  1.500000000000019 Values New MSE 1.9911407738633613\n",
      "Value of i: 85 Value of a:  1.400000000000019 Values New MSE 1.7668810615749908\n",
      "Value of i: 86 Value of a:  1.300000000000019 Values New MSE 1.562621349286621\n",
      "Value of i: 87 Value of a:  1.2000000000000188 Values New MSE 1.3783616369982512\n",
      "Value of i: 88 Value of a:  1.1000000000000187 Values New MSE 1.2141019247098814\n",
      "Value of i: 89 Value of a:  1.0000000000000187 Values New MSE 1.069842212421512\n",
      "Value of i: 90 Value of a:  0.9000000000000187 Values New MSE 0.9455825001331423\n",
      "Value of i: 91 Value of a:  0.8000000000000187 Values New MSE 0.8413227878447728\n",
      "Value of i: 92 Value of a:  0.7000000000000187 Values New MSE 0.7570630755564034\n",
      "Value of i: 93 Value of a:  0.6000000000000187 Values New MSE 0.6928033632680338\n",
      "Value of i: 94 Value of a:  0.5000000000000188 Values New MSE 0.6485436509796644\n",
      "Value of i: 95 Value of a:  0.4000000000000188 Values New MSE 0.624283938691295\n",
      "Value of i: 96 Value of a:  0.3000000000000188 Values New MSE 0.6200242264029253\n",
      "Value of i: 97 Value of a:  0.2000000000000188 Values New MSE 0.6357645141145557\n",
      "Value of i: 98 Value of a:  0.1000000000000188 Values New MSE 0.6715048018261863\n",
      "Value of i: 99 Value of a:  1.8790524691780774e-14 Values New MSE 0.7272450895378169\n"
     ]
    }
   ],
   "source": [
    "#Modify the value of b. Implement the following procedure: (task 6)\n",
    "MSE = np.square(np.subtract(Y_true,Y_pred)).mean()\n",
    "a = 10\n",
    "b = 2\n",
    "Y_true = df['y']\n",
    "X = df['x']\n",
    "print('Initial Value of MSE', str(MSE))\n",
    "for i in range(100):\n",
    "    a = a - 0.1\n",
    "    comp_y = a + X*b\n",
    "    comp_MSE = np.square(np.subtract(Y_true, comp_y)).mean()\n",
    "    if MSE > comp_MSE:\n",
    "        print('Value of i:', str(i), 'Value of a: ', str(a), 'Values New MSE', str(comp_MSE))"
   ]
  },
  {
   "cell_type": "code",
   "execution_count": 7,
   "id": "7a6eeb12",
   "metadata": {},
   "outputs": [],
   "source": [
    "#How could the algorithm be improved? Write down one or two ideas. (task 7)\n",
    "# 1 improve the performance MSE as metric by using increase the values of a to determine the best fit"
   ]
  }
 ],
 "metadata": {
  "kernelspec": {
   "display_name": "Python 3 (ipykernel)",
   "language": "python",
   "name": "python3"
  },
  "language_info": {
   "codemirror_mode": {
    "name": "ipython",
    "version": 3
   },
   "file_extension": ".py",
   "mimetype": "text/x-python",
   "name": "python",
   "nbconvert_exporter": "python",
   "pygments_lexer": "ipython3",
   "version": "3.9.7"
  }
 },
 "nbformat": 4,
 "nbformat_minor": 5
}
